{
 "cells": [
  {
   "cell_type": "code",
   "execution_count": 1,
   "id": "cff9cfac",
   "metadata": {},
   "outputs": [],
   "source": [
    "# Пусть у нас имеется какой-то набор точек на плоскости.\n",
    "# X   | Y\n",
    "# 1   | 2\n",
    "# 2   | 4.2\n",
    "# 2.5 | 5\n",
    "# 3.8 | 7.9\n",
    "# 4   | 9\n",
    "# 6   | 10.2\n",
    "# 6.6 | 13\n",
    "# 7.2 | 15.3\n",
    "# 8   | 17.1\n",
    "# 8.5 | 19.5\n",
    "# Построить персептрон так, что в его весовые коэффициенты станут коэффициентами прямой. \n",
    "import random\n",
    "import matplotlib.pyplot as plt\n",
    "import numpy as np"
   ]
  },
  {
   "cell_type": "code",
   "execution_count": 2,
   "id": "9f07b314",
   "metadata": {},
   "outputs": [],
   "source": [
    "# Коэффициент при x (вес связи при входе)\n",
    "k = random.uniform(-5, 5)"
   ]
  },
  {
   "cell_type": "code",
   "execution_count": 3,
   "id": "9becb458",
   "metadata": {},
   "outputs": [],
   "source": [
    "# Свободный член уравнения прямой (весо связи при всегда единичном входе)\n",
    "c = random.uniform(-5, 5)"
   ]
  },
  {
   "cell_type": "code",
   "execution_count": 4,
   "id": "55ed1fdc",
   "metadata": {},
   "outputs": [
    {
     "name": "stdout",
     "output_type": "stream",
     "text": [
      "Начальная прямая:  3.89940704837991 * X +  -4.868780916694524\n"
     ]
    }
   ],
   "source": [
    "# Вывод данных начальной прямой\n",
    "print('Начальная прямая: ', k, '* X + ', c)"
   ]
  },
  {
   "cell_type": "code",
   "execution_count": 5,
   "id": "8b1eb673",
   "metadata": {},
   "outputs": [],
   "source": [
    "# Набор точек X:Y\n",
    "data = {\n",
    "    1: 2,\n",
    "    2: 4.2,\n",
    "    2.5: 5,\n",
    "    3.8: 7.9,\n",
    "    4: 9,\n",
    "    6: 10.2,\n",
    "    6.6: 13,\n",
    "    7.2: 15.3,\n",
    "    8: 17.1,\n",
    "    8.5: 19.5\n",
    "}"
   ]
  },
  {
   "cell_type": "code",
   "execution_count": 6,
   "id": "68e78291",
   "metadata": {},
   "outputs": [],
   "source": [
    "# Скорость обучения, чем больше коэф., тем больше ошибок при обучении\n",
    "rate = 0.01"
   ]
  },
  {
   "cell_type": "code",
   "execution_count": 7,
   "id": "aa561a67",
   "metadata": {},
   "outputs": [],
   "source": [
    "# Высчитать y\n",
    "def proceed(x):\n",
    "    return x*k+c"
   ]
  },
  {
   "cell_type": "code",
   "execution_count": 8,
   "id": "4a0e301c",
   "metadata": {},
   "outputs": [],
   "source": [
    "# Тренировка сети\n",
    "for i in range(10000):\n",
    "    # Получить случайную X координату точки\n",
    "    x = random.choice(list(data.keys()))\n",
    " \n",
    "    # Получить соответствующую Y координату точки\n",
    "    true_result = data[x]\n",
    " \n",
    "    # Получить ответ сети\n",
    "    out = proceed(x)\n",
    " \n",
    "    # Считаем ошибку сети\n",
    "    delta = true_result - out\n",
    " \n",
    "    # Меняем вес при x в соответствии с дельта-правилом\n",
    "    k += delta*rate*x\n",
    " \n",
    "    # Меняем вес при постоянном входе в соответствии с дельта-правилом\n",
    "    c += delta*rate"
   ]
  },
  {
   "cell_type": "code",
   "execution_count": 9,
   "id": "4b59b64c",
   "metadata": {},
   "outputs": [
    {
     "name": "stdout",
     "output_type": "stream",
     "text": [
      "Готовая прямая:  2.262649999473578 * X +  -0.4353303723384038\n"
     ]
    }
   ],
   "source": [
    "# Вывод данных готовой прямой\n",
    "print('Готовая прямая: ', k, '* X + ', c)"
   ]
  },
  {
   "cell_type": "code",
   "execution_count": null,
   "id": "c4a6184b",
   "metadata": {},
   "outputs": [],
   "source": []
  },
  {
   "cell_type": "code",
   "execution_count": null,
   "id": "28766efb",
   "metadata": {},
   "outputs": [],
   "source": []
  }
 ],
 "metadata": {
  "kernelspec": {
   "display_name": "Python 3 (ipykernel)",
   "language": "python",
   "name": "python3"
  },
  "language_info": {
   "codemirror_mode": {
    "name": "ipython",
    "version": 3
   },
   "file_extension": ".py",
   "mimetype": "text/x-python",
   "name": "python",
   "nbconvert_exporter": "python",
   "pygments_lexer": "ipython3",
   "version": "3.9.13"
  }
 },
 "nbformat": 4,
 "nbformat_minor": 5
}
